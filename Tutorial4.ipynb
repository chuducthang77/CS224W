{
  "cells": [
    {
      "cell_type": "markdown",
      "metadata": {
        "id": "TZi0nGERT86Z"
      },
      "source": [
        "# Tutorial4: Convolutional Layers - Spectral methods"
      ]
    },
    {
      "cell_type": "markdown",
      "metadata": {
        "id": "0fIE_tzMT86h"
      },
      "source": [
        "## Outline"
      ]
    },
    {
      "cell_type": "markdown",
      "metadata": {
        "id": "jB7XtxJCT86h"
      },
      "source": [
        "- Why convolution in ML\n",
        "- Some theory on convolution\n",
        "- Convolution on graphs\n",
        "- Spectral-convolutional layers in PyTorch Geometric"
      ]
    },
    {
      "cell_type": "code",
      "execution_count": 1,
      "metadata": {
        "id": "l001k7eDT86j",
        "outputId": "93900e20-c54e-444b-9fe2-d7aab0f08da5",
        "colab": {
          "base_uri": "https://localhost:8080/"
        }
      },
      "outputs": [
        {
          "output_type": "stream",
          "name": "stdout",
          "text": [
            "2.0.1+cu118\n",
            "\u001b[2K     \u001b[90m━━━━━━━━━━━━━━━━━━━━━━━━━━━━━━━━━━━━━━━━\u001b[0m \u001b[32m10.2/10.2 MB\u001b[0m \u001b[31m43.8 MB/s\u001b[0m eta \u001b[36m0:00:00\u001b[0m\n",
            "\u001b[2K     \u001b[90m━━━━━━━━━━━━━━━━━━━━━━━━━━━━━━━━━━━━━━━━\u001b[0m \u001b[32m4.8/4.8 MB\u001b[0m \u001b[31m62.3 MB/s\u001b[0m eta \u001b[36m0:00:00\u001b[0m\n",
            "\u001b[?25h  Installing build dependencies ... \u001b[?25l\u001b[?25hdone\n",
            "  Getting requirements to build wheel ... \u001b[?25l\u001b[?25hdone\n",
            "  Preparing metadata (pyproject.toml) ... \u001b[?25l\u001b[?25hdone\n",
            "  Building wheel for torch_geometric (pyproject.toml) ... \u001b[?25l\u001b[?25hdone\n"
          ]
        }
      ],
      "source": [
        "import os\n",
        "import torch\n",
        "os.environ['TORCH'] = torch.__version__\n",
        "print(torch.__version__)\n",
        "\n",
        "!pip install -q torch-scatter -f https://data.pyg.org/whl/torch-${TORCH}.html\n",
        "!pip install -q torch-sparse -f https://data.pyg.org/whl/torch-${TORCH}.html\n",
        "!pip install -q git+https://github.com/pyg-team/pytorch_geometric.git"
      ]
    },
    {
      "cell_type": "markdown",
      "metadata": {
        "id": "2qOSysHVT86m"
      },
      "source": [
        "## Imports"
      ]
    },
    {
      "cell_type": "code",
      "execution_count": 2,
      "metadata": {
        "id": "KhF83sMIT86n"
      },
      "outputs": [],
      "source": [
        "import numpy as np\n",
        "import matplotlib.pyplot as plt\n",
        "plt.rcParams.update({'font.size': 16})"
      ]
    },
    {
      "cell_type": "markdown",
      "metadata": {
        "id": "BnYbNyzcT86p"
      },
      "source": [
        "## Why convolution in ML"
      ]
    },
    {
      "cell_type": "markdown",
      "metadata": {
        "id": "LUYgYBvST86q"
      },
      "source": [
        "- Weight sharing\n",
        "- Detection of translational invariant and local features"
      ]
    },
    {
      "cell_type": "markdown",
      "metadata": {
        "id": "sElUEWvUT86r"
      },
      "source": [
        "![](https://github.com/AntonioLonga/PytorchGeometricTutorial/blob/main/Tutorial4/fig/fully_connected.png?raw=1)\n",
        "[Source](https://missinglink.ai/guides/convolutional-neural-networks/fully-connected-layers-convolutional-neural-networks-complete-guide/)"
      ]
    },
    {
      "cell_type": "markdown",
      "metadata": {
        "id": "TWmC1FyzT86r"
      },
      "source": [
        "![](https://github.com/AntonioLonga/PytorchGeometricTutorial/blob/main/Tutorial4/fig/cnn.gif?raw=1)\n",
        "[Source](https://commons.wikimedia.org/wiki/File:Convolutional_Neural_Network.gif)"
      ]
    },
    {
      "cell_type": "markdown",
      "metadata": {
        "id": "2pzP-ZC4T86s"
      },
      "source": [
        "![](https://github.com/AntonioLonga/PytorchGeometricTutorial/blob/main/Tutorial4/fig/Convolution.png?raw=1)\n",
        "[Source](https://commons.wikimedia.org/wiki/File:Convolution.PNG)"
      ]
    },
    {
      "cell_type": "markdown",
      "metadata": {
        "id": "RH5IBzqsT86s"
      },
      "source": [
        "## Some theory on convolution"
      ]
    },
    {
      "cell_type": "markdown",
      "metadata": {
        "id": "-3aO-D16T86t"
      },
      "source": [
        "![](https://github.com/AntonioLonga/PytorchGeometricTutorial/blob/main/Tutorial4/fig/Convolution_of_box_signal_with_itself2.gif?raw=1)\n",
        "[Source](https://en.wikipedia.org/wiki/File:Convolution_of_box_signal_with_itself2.gif)"
      ]
    },
    {
      "cell_type": "markdown",
      "metadata": {
        "id": "cUehJ8g4T86t"
      },
      "source": [
        "### Definition"
      ]
    },
    {
      "cell_type": "markdown",
      "metadata": {
        "id": "_5ch21jaT86t"
      },
      "source": [
        "\\begin{align*}\n",
        "c[n] = (v * w)[n] = \\sum_{m=0}^{N-1} v[m] \\cdot w[n-m]\n",
        "\\end{align*}"
      ]
    },
    {
      "cell_type": "code",
      "execution_count": 3,
      "metadata": {
        "id": "tGIXQf5GT86t"
      },
      "outputs": [],
      "source": [
        "def conv(v, w):\n",
        "    c = np.zeros(v.shape)\n",
        "    for n in range(len(v)):\n",
        "        c[n] = 0\n",
        "        for m in range(len(v)):\n",
        "            c[n] += v[m] * w[n - m]\n",
        "    return c"
      ]
    },
    {
      "cell_type": "code",
      "execution_count": 4,
      "metadata": {
        "id": "nkC8cYOkT86t",
        "outputId": "da29f48f-2001-4b58-c7f3-442b67eb2ef0",
        "colab": {
          "base_uri": "https://localhost:8080/",
          "height": 436
        }
      },
      "outputs": [
        {
          "output_type": "display_data",
          "data": {
            "text/plain": [
              "<Figure size 640x480 with 1 Axes>"
            ],
            "image/png": "[encoded data removed]"
          },
          "metadata": {}
        }
      ],
      "source": [
        "N = 20\n",
        "v = np.zeros(N)\n",
        "v[8:12] = 1\n",
        "w = np.zeros(N)\n",
        "w[1:5] = 1\n",
        "c = conv(v, w)\n",
        "\n",
        "fig = plt.figure()\n",
        "ax = fig.gca()\n",
        "ax.plot(v, '.-')\n",
        "ax.plot(w, '.-')\n",
        "ax.plot(c, '.-')\n",
        "ax.legend(['v', 'w', 'c'])\n",
        "ax.grid(True)"
      ]
    },
    {
      "cell_type": "markdown",
      "metadata": {
        "id": "oJ-FNelFT86u"
      },
      "source": [
        "### Fourier transform"
      ]
    },
    {
      "cell_type": "markdown",
      "metadata": {
        "id": "-PLrlFQvT86u"
      },
      "source": [
        "Transformation $\\mathcal F: \\mathbb{R}^N \\to \\mathbb{R}^N$ with\n",
        "\n",
        "\\begin{align*}\n",
        "\\mathcal F^{-1}(\\mathcal F (v)) &= v\\\\\n",
        "\\mathcal F(v * w) &= \\mathcal F(v) \\cdot \\mathcal F(w).\n",
        "\\end{align*}"
      ]
    },
    {
      "cell_type": "markdown",
      "metadata": {
        "id": "Pp7ahI6yT86u"
      },
      "source": [
        "This implies\n",
        "\\begin{align*}\n",
        "v * w &= \\mathcal F^{-1}(\\mathcal F (v * w))\\\\\n",
        "&= \\mathcal F^{-1}(\\mathcal F(v) \\cdot \\mathcal F(w))\n",
        "\\end{align*}"
      ]
    },
    {
      "cell_type": "code",
      "execution_count": 5,
      "metadata": {
        "id": "BAb9_977T86u",
        "outputId": "63ac0b9d-3b8c-4e62-e90c-ed5e7edecb91",
        "colab": {
          "base_uri": "https://localhost:8080/"
        }
      },
      "outputs": [
        {
          "output_type": "execute_result",
          "data": {
            "text/plain": [
              "array([3.41856755, 2.84899324, 2.64278455, 2.80030242, 2.91124863,\n",
              "       2.90744532, 2.925447  , 3.13053593, 2.84519158, 3.12393986,\n",
              "       2.67581575, 2.43202498, 2.35109816, 3.08490885, 2.32666817,\n",
              "       2.36338748, 2.92239271, 3.37988842, 2.39153905, 2.86292207])"
            ]
          },
          "metadata": {},
          "execution_count": 5
        }
      ],
      "source": [
        "v, w = np.random.rand(N), np.random.rand(N)\n",
        "conv(v, w)"
      ]
    },
    {
      "cell_type": "code",
      "execution_count": 6,
      "metadata": {
        "id": "CsB23ypFT86v",
        "outputId": "661d1448-9dc2-49bf-d6fa-fa6c4d64a158",
        "colab": {
          "base_uri": "https://localhost:8080/"
        }
      },
      "outputs": [
        {
          "output_type": "execute_result",
          "data": {
            "text/plain": [
              "array([3.41856755, 2.84899324, 2.64278455, 2.80030242, 2.91124863,\n",
              "       2.90744532, 2.925447  , 3.13053593, 2.84519158, 3.12393986,\n",
              "       2.67581575, 2.43202498, 2.35109816, 3.08490885, 2.32666817,\n",
              "       2.36338748, 2.92239271, 3.37988842, 2.39153905, 2.86292207])"
            ]
          },
          "metadata": {},
          "execution_count": 6
        }
      ],
      "source": [
        "from scipy.fft import fft, ifft # Fast Fourier Transform / Inverse FFT\n",
        "np.abs(ifft(fft(v) * fft(w)))"
      ]
    },
    {
      "cell_type": "markdown",
      "metadata": {
        "id": "ZOacDOV5T86v"
      },
      "source": [
        "### Definition of the Fourier transform"
      ]
    },
    {
      "cell_type": "markdown",
      "metadata": {
        "id": "56_loI8mT86v"
      },
      "source": [
        "The Fourier transform can be computed as\n",
        "\n",
        "\\begin{align*}\n",
        "\\mathcal F(v) = U\\cdot v, \\;\\;\\mathcal F^{-1}(v) = \\frac{1}{N}\\ U^H \\cdot v\n",
        "\\end{align*}\n",
        "\n",
        "where the $N\\times N$ matrix $U$ is defined as\n",
        "\\begin{align*}\n",
        "\\\\\n",
        "U =\n",
        "\\begin{bmatrix}\n",
        "u_0(0) & u_1(0) & \\dots & u_{N-1}(0)\\\\\n",
        "u_0(1) & u_1(1) & \\dots & u_{N-1}(1)\\\\\n",
        "\\vdots & \\vdots& & \\vdots\\\\\n",
        "u_0(N-1) & u_1(N-1) & \\dots & u_{N-1}(N-1)\\\\\n",
        "\\end{bmatrix}\n",
        "\\end{align*}\n",
        "\n",
        "and $u_0, \\dots, u_{N-1}$ are functions defined as\n",
        "\n",
        "\\begin{align*}\n",
        "u_n(x)&:= \\cos\\left(2 \\pi \\frac{n}{N} x\\right) - i \\sin\\left(2 \\pi \\frac{n}{N} x\\right).\n",
        "\\end{align*}"
      ]
    },
    {
      "cell_type": "code",
      "execution_count": 7,
      "metadata": {
        "id": "bry_o0TDT86v"
      },
      "outputs": [],
      "source": [
        "def matrix_U(N):\n",
        "    u = lambda n, N: np.cos(2 * np.pi / N * n * np.arange(N)) - 1j * np.sin(2 * np.pi / N * n * np.arange(N))\n",
        "    U = np.empty((N, 0))\n",
        "    for n in range(N):\n",
        "        U = np.c_[U, u(n, N)]\n",
        "    return U\n",
        "\n",
        "\n",
        "def fourier_transform(v):\n",
        "    N = v.shape[0]\n",
        "    U = matrix_U(N)\n",
        "    return U @ v\n",
        "\n",
        "\n",
        "def inverse_fourier_transform(v):\n",
        "    N = v.shape[0]\n",
        "    U = matrix_U(N)\n",
        "    return (U.conj().transpose() @ v) / N"
      ]
    },
    {
      "cell_type": "code",
      "execution_count": 8,
      "metadata": {
        "id": "NbIVu2cJT86w",
        "outputId": "cc084c9e-17d8-4806-ebb8-aa1007473024",
        "colab": {
          "base_uri": "https://localhost:8080/"
        }
      },
      "outputs": [
        {
          "output_type": "execute_result",
          "data": {
            "text/plain": [
              "array([ 0.00000000e+00-0.00000000e+00j,  4.44089210e-16+0.00000000e+00j,\n",
              "       -2.22044605e-16+4.02455846e-16j,  2.22044605e-16+6.10622664e-16j,\n",
              "       -3.33066907e-16-3.33066907e-16j,  3.94129174e-15+4.44089210e-16j,\n",
              "       -1.66533454e-15-1.11022302e-15j, -7.21644966e-16+3.88578059e-16j,\n",
              "        0.00000000e+00+1.38777878e-16j, -1.33226763e-15-9.99200722e-16j,\n",
              "        1.33226763e-15+4.03825443e-15j, -1.88737914e-15+8.88178420e-16j,\n",
              "       -1.88737914e-15-8.60422844e-16j, -1.11022302e-15-3.99680289e-15j,\n",
              "        8.88178420e-16-3.33066907e-15j,  3.71924713e-15+1.55431223e-15j,\n",
              "       -4.44089210e-16-7.77156117e-16j,  1.27675648e-15-6.49480469e-15j,\n",
              "        1.33226763e-15+7.21644966e-15j, -5.10702591e-15+2.66453526e-15j])"
            ]
          },
          "metadata": {},
          "execution_count": 8
        }
      ],
      "source": [
        "fft(v) - fourier_transform(v)"
      ]
    },
    {
      "cell_type": "code",
      "execution_count": 9,
      "metadata": {
        "id": "ftsP8VPQT86x",
        "outputId": "d0bf006c-a87d-4b54-a798-5010555c7ff1",
        "colab": {
          "base_uri": "https://localhost:8080/"
        }
      },
      "outputs": [
        {
          "output_type": "execute_result",
          "data": {
            "text/plain": [
              "array([-5.55111512e-17-0.00000000e+00j,  0.00000000e+00+0.00000000e+00j,\n",
              "        1.38777878e-17-2.34187669e-17j,  1.90819582e-17-3.81639165e-17j,\n",
              "       -3.46944695e-18+1.56125113e-17j,  2.01227923e-16-3.46944695e-17j,\n",
              "       -8.32667268e-17+4.16333634e-17j, -4.16333634e-17-2.77555756e-17j,\n",
              "        3.46944695e-18-1.21430643e-17j, -6.93889390e-17+5.89805982e-17j,\n",
              "        2.08166817e-17-2.01912722e-16j, -8.32667268e-17-6.24500451e-17j,\n",
              "       -9.36750677e-17+4.68375339e-17j, -6.07153217e-17+1.99493200e-16j,\n",
              "        3.81639165e-17+1.52655666e-16j,  1.85615412e-16-6.93889390e-17j,\n",
              "       -2.42861287e-17+4.16333634e-17j,  6.24500451e-17+3.33066907e-16j,\n",
              "        8.32667268e-17-3.59087760e-16j, -2.35922393e-16-1.38777878e-16j])"
            ]
          },
          "metadata": {},
          "execution_count": 9
        }
      ],
      "source": [
        "ifft(v) - inverse_fourier_transform(v)"
      ]
    },
    {
      "cell_type": "markdown",
      "metadata": {
        "id": "7RelVQRuT86x"
      },
      "source": [
        "### Connection with the Laplacian"
      ]
    },
    {
      "cell_type": "markdown",
      "metadata": {
        "id": "6UpvZUpWT86y"
      },
      "source": [
        "The functions $u_n$ (the columns of the Fourier transform matrix) are eigenvectors of the Laplacian:\n",
        "\n",
        "\\begin{align*}\n",
        "u_n(x)&:= \\cos\\left(2 \\pi \\frac{n}{N} x\\right) - i \\sin\\left(2 \\pi \\frac{n}{N} x\\right)\\\\\n",
        "\\Delta u_n(x)&:= \\left(-4 \\pi ^ 2\\frac{n^2}{N^2}\\right) u_n(x)\n",
        "\\end{align*}"
      ]
    },
    {
      "cell_type": "markdown",
      "metadata": {
        "id": "Sv5fcumDT86y"
      },
      "source": [
        "### Summary"
      ]
    },
    {
      "cell_type": "markdown",
      "metadata": {
        "id": "-Uf9upiQT862"
      },
      "source": [
        "\\begin{align*}\n",
        "v * w\n",
        "= U^H ((U  w) \\odot (U  v))\n",
        "\\end{align*}\n",
        "\n",
        "or if $g_w=\\mbox{diag}(U w)$ is  filter\n",
        "\\begin{align*}\n",
        "v * w\n",
        "= U^H g_w U  w\n",
        "\\end{align*}"
      ]
    },
    {
      "cell_type": "code",
      "execution_count": 10,
      "metadata": {
        "id": "9Y_JyC3gT862",
        "outputId": "a6c785b7-6497-4534-d69b-c66de469a70c",
        "colab": {
          "base_uri": "https://localhost:8080/"
        }
      },
      "outputs": [
        {
          "output_type": "execute_result",
          "data": {
            "text/plain": [
              "array([3.41856755, 2.84899324, 2.64278455, 2.80030242, 2.91124863,\n",
              "       2.90744532, 2.925447  , 3.13053593, 2.84519158, 3.12393986,\n",
              "       2.67581575, 2.43202498, 2.35109816, 3.08490885, 2.32666817,\n",
              "       2.36338748, 2.92239271, 3.37988842, 2.39153905, 2.86292207])"
            ]
          },
          "metadata": {},
          "execution_count": 10
        }
      ],
      "source": [
        "U = matrix_U(N)\n",
        "np.abs((U.conj().transpose() / N) @ ((U @ v) * (U @ w)))"
      ]
    },
    {
      "cell_type": "code",
      "execution_count": 11,
      "metadata": {
        "id": "mYQco03yT863",
        "outputId": "43d241b9-37ab-4b75-9c46-e8b4396f1014",
        "colab": {
          "base_uri": "https://localhost:8080/"
        }
      },
      "outputs": [
        {
          "output_type": "execute_result",
          "data": {
            "text/plain": [
              "array([3.41856755, 2.84899324, 2.64278455, 2.80030242, 2.91124863,\n",
              "       2.90744532, 2.925447  , 3.13053593, 2.84519158, 3.12393986,\n",
              "       2.67581575, 2.43202498, 2.35109816, 3.08490885, 2.32666817,\n",
              "       2.36338748, 2.92239271, 3.37988842, 2.39153905, 2.86292207])"
            ]
          },
          "metadata": {},
          "execution_count": 11
        }
      ],
      "source": [
        "conv(v, w)"
      ]
    },
    {
      "cell_type": "markdown",
      "metadata": {
        "id": "MCHQh0JhT863"
      },
      "source": [
        "## Convolution on graphs"
      ]
    },
    {
      "cell_type": "markdown",
      "metadata": {
        "id": "Ixc9rUWWT863"
      },
      "source": [
        "**Plan**:\n",
        "    - Define the graph Laplacian\n",
        "    - Compute the spectrum\n",
        "    - Define a Fourier transform\n",
        "    - Define convolution on a graph"
      ]
    },
    {
      "cell_type": "markdown",
      "metadata": {
        "id": "kXI5MGgLT864"
      },
      "source": [
        "**Note:** From now on $G = (V, E)$ is an undirected, unweighted, simple graph."
      ]
    },
    {
      "cell_type": "markdown",
      "metadata": {
        "id": "M_e6S3zDT864"
      },
      "source": [
        "### Graph Laplacian"
      ]
    },
    {
      "cell_type": "markdown",
      "metadata": {
        "id": "IyjiUMiST864"
      },
      "source": [
        "Adjacency matrix\n",
        "\\begin{align*}\n",
        "A_{ij} = \\left\\{\n",
        "    \\begin{array}{ll}\n",
        "    1 &\\text{ if } e_{ij}\\in E\\\\\n",
        "    0 &\\text{ if } e_{ij}\\notin E\n",
        "    \\end{array}\n",
        "    \\right.\n",
        "\\end{align*}\n",
        "\n",
        "Degree matrix\n",
        "\\begin{align*}\n",
        "D_{ij} = \\left\\{\n",
        "    \\begin{array}{ll}\n",
        "    \\mbox{deg}(v_i) &\\text{ if } i=j\\\\\n",
        "    0 &\\text{ if } i\\neq j\n",
        "    \\end{array}\n",
        "    \\right.\n",
        "\\end{align*}\n",
        "\n",
        "Laplacian\n",
        "\\begin{align*}\n",
        "L &= D - A.\n",
        "\\end{align*}\n",
        "\n",
        "Normalized Laplacian\n",
        "\\begin{align*}\n",
        "L &= I - D^{-1/2} A D^{-1/2}.\n",
        "\\end{align*}"
      ]
    },
    {
      "cell_type": "markdown",
      "metadata": {
        "id": "TcR6_EwCT865"
      },
      "source": [
        "### Graph spectrum, Fourier transform, and convolution"
      ]
    },
    {
      "cell_type": "markdown",
      "metadata": {
        "id": "opD8wEhpT87C"
      },
      "source": [
        "1. Spectral decomposition of the Laplacian:\n",
        "\\begin{align*}\n",
        "L = U \\Lambda U^T\\\\\n",
        "\\end{align*}\n",
        "\n",
        "\n",
        "2. Fourier transform: if $v$ is a vector of features on the graph, then\n",
        "\\begin{align*}\n",
        "\\mathcal F (v) = U \\cdot v, \\;\\;\\mathcal F^{-1} (v) = U^T \\cdot v\\\\\n",
        "\\end{align*}\n",
        "\n",
        "\n",
        "3. Convolution with a filter $U \\cdot w$\n",
        "\\begin{align*}\n",
        "v * w = U ((U^T  w) \\odot (U^T  v) )\n",
        "\\end{align*}\n",
        "\n",
        "\n",
        "Or $g_w = \\mbox{diag}(U^T w)$ is a filter, then\n",
        "\\begin{align*}\n",
        "v * w = U g_w U^T  v\n",
        "\\end{align*}\n"
      ]
    },
    {
      "cell_type": "markdown",
      "metadata": {
        "id": "uu4c-aVeT87D"
      },
      "source": [
        "## Spectral-convolutional layers in PyTorch Geometric"
      ]
    },
    {
      "cell_type": "markdown",
      "metadata": {
        "id": "qE3z5xcuT87D"
      },
      "source": [
        "**Problem:** Computing the spectrum is a global and very expensive property.\n",
        "\n",
        "**Goal:** Implementation as message passing."
      ]
    },
    {
      "cell_type": "markdown",
      "metadata": {
        "id": "AkGWogD3T87D"
      },
      "source": [
        "### ChebConv"
      ]
    },
    {
      "cell_type": "markdown",
      "metadata": {
        "id": "aaiODu4zT87E"
      },
      "source": [
        "- Original [paper](https://arxiv.org/pdf/1606.09375.pdf)\n",
        "- PyTorch [doc](https://pytorch-geometric.readthedocs.io/en/latest/modules/nn.html#torch_geometric.nn.conv.ChebConv)"
      ]
    },
    {
      "cell_type": "markdown",
      "metadata": {
        "id": "AEYKO5WUT87E"
      },
      "source": [
        "#### Goal:\n",
        "Compute $U g_w U^T x$ with $g_w = g_w(\\Lambda)$ a filter."
      ]
    },
    {
      "cell_type": "markdown",
      "metadata": {
        "id": "WztF4nIjT87F"
      },
      "source": [
        "#### Chebyshev approximation\n",
        "\n",
        "Chebyshev polynomials $T_k$:\n",
        "\\begin{align*}\n",
        "T_{k}(x) = 2 x T_{k-1}(x) - T_{k-2}(x), \\;\\; T_0(x) = 1, T_1(x) = x\n",
        "\\end{align*}\n",
        "\n",
        "#### Chebyshev approximation of the filter\n",
        "Aproximation of the filter:\n",
        "\\begin{align*}\n",
        "g_w(\\Lambda) = \\sum_{k=0}^K \\theta_k T_k(\\tilde \\Lambda),\\;\\;\\;\\;\\tilde \\Lambda = \\frac{2}{\\lambda_\\max} \\Lambda - I\n",
        "\\end{align*}\n",
        "\n",
        "\n",
        "#### Property\n",
        "If $L = U \\Lambda U^T$ then $T_k(L) = U T_k(\\Lambda) U^T$.\n"
      ]
    },
    {
      "cell_type": "markdown",
      "metadata": {
        "id": "RfKl7-tNT87F"
      },
      "source": [
        "#### Fast approximated convolution\n",
        "\\begin{align*}\n",
        "v * w &= U g_w U^T x\n",
        "= U \\left(\\sum_{k=0}^K \\theta_k T_k(\\tilde \\Lambda) \\right)U^T x\n",
        "=\\sum_{k=0}^K  \\theta_k U  T_k(\\tilde \\Lambda) U^T x\\\\\n",
        "&=\\sum_{k=0}^K  \\theta_k T_k(\\tilde L) x\n",
        "\\end{align*}\n",
        "\n",
        "\\begin{align*}\n",
        "\\tilde L = \\frac{2}{\\lambda_\\max} L - I\n",
        "\\end{align*}"
      ]
    },
    {
      "cell_type": "markdown",
      "metadata": {
        "id": "7RgrolrwT87F"
      },
      "source": [
        "#### Properties:\n",
        "- Depends on $L$ and $\\lambda_\\max$, not on $U, \\Sigma$\n",
        "- Uses only $K$-powers $\\Rightarrow$ only the $K$-th neighborhood of each node, localized filter"
      ]
    },
    {
      "cell_type": "markdown",
      "metadata": {
        "id": "O8dgT6YVT87F"
      },
      "source": [
        "**As message passing:**\n",
        "![](https://github.com/AntonioLonga/PytorchGeometricTutorial/blob/main/Tutorial4/fig/cheb_init.png?raw=1)\n",
        "\n",
        "![](https://github.com/AntonioLonga/PytorchGeometricTutorial/blob/main/Tutorial4/fig/cheb_norm.png?raw=1)\n",
        "\n",
        "![](https://github.com/AntonioLonga/PytorchGeometricTutorial/blob/main/Tutorial4/fig/cheb_forward.png?raw=1)\n",
        "\n",
        "![](https://github.com/AntonioLonga/PytorchGeometricTutorial/blob/main/Tutorial4/fig/cheb_message.png?raw=1)"
      ]
    },
    {
      "cell_type": "markdown",
      "metadata": {
        "id": "9ZTAiEOvT87G"
      },
      "source": [
        "### GCNConv"
      ]
    },
    {
      "cell_type": "markdown",
      "metadata": {
        "id": "xE9n7k-HT87G"
      },
      "source": [
        "- Original [paper](https://arxiv.org/pdf/1609.02907.pdf)\n",
        "- PyTorch [doc](https://pytorch-geometric.readthedocs.io/en/latest/modules/nn.html#torch_geometric.nn.conv.GCNConv)"
      ]
    },
    {
      "cell_type": "markdown",
      "metadata": {
        "id": "rwnVgHkVT87H"
      },
      "source": [
        "Start from `ChebConv` and assume\n",
        "1. $K=1$ (linear approximation) so\n",
        "\\begin{align*}\n",
        "v * w\n",
        "&=\\sum_{k=0}^1  \\theta_k T_k(\\tilde L) x\n",
        "= \\theta_0 x + \\theta_1 \\tilde L x\\\\\n",
        "\\end{align*}\n",
        "\n",
        "2. $\\lambda_\\max =2$ so\n",
        "\\begin{align*}\n",
        "v * w\n",
        "&= \\theta_0 x + \\theta_1 (L - I) x\\\\\n",
        "&= \\theta_0 x - \\theta_1 D^{-1/2} A D^{1/2} x\\\\\n",
        "\\end{align*}\n",
        "\n",
        "\n",
        "3. $\\theta_0=-\\theta_1= \\theta$ so\n",
        "\\begin{align*}\n",
        "v * w = \\left(I + D^{-1/2} A D^{1/2}\\right) x \\theta\n",
        "\\end{align*}\n",
        "\n",
        "4. Renormalization of $\\theta$ by using\n",
        "\\begin{align*}\n",
        "\\tilde A&:= I + A\\\\\n",
        "\\tilde D_{ii}&:= \\sum_j \\tilde A_{ij}\n",
        "\\end{align*}\n",
        "so\n",
        "\\begin{align*}\n",
        "v * w = \\left(D^{-1/2} A D^{1/2}\\right) x \\theta\n",
        "\\end{align*}\n",
        "\n",
        "If $x$ is a $F$-dimensional feature vector, and we want an $F'$-dimensional feature vector as output:\n",
        "use $W'\\in \\mathbb{R}^{F\\times F'}$\n",
        "\\begin{align*}\n",
        "v * w = \\left(D^{-1/2} A D^{1/2}\\right) x \\Theta\n",
        "\\end{align*}\n"
      ]
    },
    {
      "cell_type": "markdown",
      "metadata": {
        "id": "D6nHAOA8T87H"
      },
      "source": [
        "Nodewise:\n",
        "    ![image.png](https://github.com/AntonioLonga/PytorchGeometricTutorial/blob/main/Tutorial4/fig/gcn_nodewise.png?raw=1)"
      ]
    },
    {
      "cell_type": "markdown",
      "metadata": {
        "id": "59t0-r-WT87I"
      },
      "source": [
        "#### As message passing\n",
        "See Tutorial3"
      ]
    }
  ],
  "metadata": {
    "kernelspec": {
      "display_name": "Python 3",
      "language": "python",
      "name": "python3"
    },
    "language_info": {
      "codemirror_mode": {
        "name": "ipython",
        "version": 3
      },
      "file_extension": ".py",
      "mimetype": "text/x-python",
      "name": "python",
      "nbconvert_exporter": "python",
      "pygments_lexer": "ipython3",
      "version": "3.9.12"
    },
    "colab": {
      "provenance": []
    }
  },
  "nbformat": 4,
  "nbformat_minor": 0
}